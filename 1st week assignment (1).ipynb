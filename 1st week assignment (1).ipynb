{
 "cells": [
  {
   "cell_type": "markdown",
   "id": "de00136f-b0dd-420e-aabd-2b09a470c859",
   "metadata": {
    "tags": []
   },
   "source": [
    "# 1"
   ]
  },
  {
   "cell_type": "code",
   "execution_count": 12,
   "id": "20e5a1ac-25d6-4473-af59-1ab740d30480",
   "metadata": {},
   "outputs": [
    {
     "name": "stdout",
     "output_type": "stream",
     "text": [
      "Ruchika\n"
     ]
    }
   ],
   "source": [
    "a= 'Ruchika'\n",
    "print(a)"
   ]
  },
  {
   "cell_type": "code",
   "execution_count": 14,
   "id": "5a30fbdb-7060-4888-982d-980cc1778c71",
   "metadata": {},
   "outputs": [
    {
     "name": "stdout",
     "output_type": "stream",
     "text": [
      "[2, 3.4, True]\n"
     ]
    }
   ],
   "source": [
    "b=[2,3.4,True]\n",
    "print(b)"
   ]
  },
  {
   "cell_type": "code",
   "execution_count": 15,
   "id": "3a954a48-b599-4067-9e52-a24332bc9b2a",
   "metadata": {},
   "outputs": [
    {
     "name": "stdout",
     "output_type": "stream",
     "text": [
      "4.56\n"
     ]
    }
   ],
   "source": [
    "c=4.56\n",
    "print(c)"
   ]
  },
  {
   "cell_type": "code",
   "execution_count": 16,
   "id": "a7514937-b755-4a25-a0f0-780169456cab",
   "metadata": {},
   "outputs": [
    {
     "name": "stdout",
     "output_type": "stream",
     "text": [
      "(1, 2.3, 'ruchi')\n"
     ]
    }
   ],
   "source": [
    "d=(1,2.3,'ruchi')\n",
    "print(d)"
   ]
  },
  {
   "cell_type": "markdown",
   "id": "7102f1c8-c9e4-4c1c-88f9-a1a023431106",
   "metadata": {},
   "source": [
    "# 2"
   ]
  },
  {
   "cell_type": "code",
   "execution_count": 17,
   "id": "12b9d07d-520c-449e-bb5b-3dc87db3c8dc",
   "metadata": {},
   "outputs": [
    {
     "data": {
      "text/plain": [
       "str"
      ]
     },
     "execution_count": 17,
     "metadata": {},
     "output_type": "execute_result"
    }
   ],
   "source": [
    "type('')"
   ]
  },
  {
   "cell_type": "code",
   "execution_count": 18,
   "id": "55ad620a-2e80-49ca-9743-40d2eda07354",
   "metadata": {},
   "outputs": [
    {
     "data": {
      "text/plain": [
       "str"
      ]
     },
     "execution_count": 18,
     "metadata": {},
     "output_type": "execute_result"
    }
   ],
   "source": [
    "type('[]')"
   ]
  },
  {
   "cell_type": "code",
   "execution_count": 19,
   "id": "5154aa35-bea7-4bef-b53f-4f8a4bfebc49",
   "metadata": {},
   "outputs": [
    {
     "data": {
      "text/plain": [
       "list"
      ]
     },
     "execution_count": 19,
     "metadata": {},
     "output_type": "execute_result"
    }
   ],
   "source": [
    "type([])"
   ]
  },
  {
   "cell_type": "code",
   "execution_count": 20,
   "id": "f1c27ff1-6511-4c69-94de-e71548ad6854",
   "metadata": {},
   "outputs": [
    {
     "data": {
      "text/plain": [
       "int"
      ]
     },
     "execution_count": 20,
     "metadata": {},
     "output_type": "execute_result"
    }
   ],
   "source": [
    "type(1)"
   ]
  },
  {
   "cell_type": "markdown",
   "id": "f74f0a25-5689-4651-a849-5e1d40bcabaf",
   "metadata": {},
   "source": [
    "# 3"
   ]
  },
  {
   "cell_type": "code",
   "execution_count": 22,
   "id": "23044b1a-6a7d-43b5-a450-950e5d61b882",
   "metadata": {},
   "outputs": [
    {
     "data": {
      "text/plain": [
       "2.0"
      ]
     },
     "execution_count": 22,
     "metadata": {},
     "output_type": "execute_result"
    }
   ],
   "source": [
    "# / float divison operator\n",
    "6/3"
   ]
  },
  {
   "cell_type": "code",
   "execution_count": 29,
   "id": "4b02c94c-7bb8-467c-ab33-19edf3ef3060",
   "metadata": {},
   "outputs": [
    {
     "data": {
      "text/plain": [
       "3"
      ]
     },
     "execution_count": 29,
     "metadata": {},
     "output_type": "execute_result"
    }
   ],
   "source": [
    "# % modulus operator, result will be the remainder\n",
    "13%5"
   ]
  },
  {
   "cell_type": "code",
   "execution_count": 30,
   "id": "8c99d2a5-f72c-4e3f-8857-ee3124e7f8b6",
   "metadata": {},
   "outputs": [
    {
     "data": {
      "text/plain": [
       "3"
      ]
     },
     "execution_count": 30,
     "metadata": {},
     "output_type": "execute_result"
    }
   ],
   "source": [
    "# // integer division operator\n",
    "50//15   # // division will only give the integer value as a result"
   ]
  },
  {
   "cell_type": "code",
   "execution_count": 32,
   "id": "e2eb9806-7969-4c59-8a51-bce8870710a3",
   "metadata": {},
   "outputs": [
    {
     "data": {
      "text/plain": [
       "16"
      ]
     },
     "execution_count": 32,
     "metadata": {},
     "output_type": "execute_result"
    }
   ],
   "source": [
    "# ** exponent operator\n",
    "2**4"
   ]
  },
  {
   "cell_type": "markdown",
   "id": "1a04ad1c-d841-4125-a5a1-c864c468f03b",
   "metadata": {
    "tags": []
   },
   "source": [
    "# 4"
   ]
  },
  {
   "cell_type": "code",
   "execution_count": 8,
   "id": "72258354-89fd-477c-b4a9-72dcb4875559",
   "metadata": {},
   "outputs": [
    {
     "name": "stdout",
     "output_type": "stream",
     "text": [
      "1\n",
      "2.6\n",
      "True\n",
      "9\n",
      "False\n",
      "(3+7j)\n",
      "9\n",
      "ruchi\n",
      "4.8\n",
      "puja\n"
     ]
    }
   ],
   "source": [
    "l=[1,2.6,True,9,False,3+7j,9,'ruchi',4.8,'puja']\n",
    "for i in l:\n",
    "    print(i)"
   ]
  },
  {
   "cell_type": "code",
   "execution_count": 9,
   "id": "13e12b08-ecef-4564-be28-6a5606d84901",
   "metadata": {},
   "outputs": [
    {
     "name": "stdout",
     "output_type": "stream",
     "text": [
      "<class 'int'>\n",
      "<class 'float'>\n",
      "<class 'bool'>\n",
      "<class 'int'>\n",
      "<class 'bool'>\n",
      "<class 'complex'>\n",
      "<class 'int'>\n",
      "<class 'str'>\n",
      "<class 'float'>\n",
      "<class 'str'>\n"
     ]
    }
   ],
   "source": [
    "l=[1,2.6,True,9,False,3+7j,9,'ruchi',4.8,'puja']\n",
    "for i in l:\n",
    "    print(type(i))"
   ]
  },
  {
   "cell_type": "markdown",
   "id": "d7490930-5f37-4bbf-9c3b-593be72beddb",
   "metadata": {},
   "source": [
    "# 5"
   ]
  },
  {
   "cell_type": "code",
   "execution_count": 15,
   "id": "d8fcacc2-e6bb-4bd3-a77f-00f01524747d",
   "metadata": {},
   "outputs": [
    {
     "name": "stdout",
     "output_type": "stream",
     "text": [
      "3\n"
     ]
    }
   ],
   "source": [
    "a=9\n",
    "b=3\n",
    "while a%b==0:\n",
    "    print(b)\n",
    "    b=b+1"
   ]
  },
  {
   "cell_type": "markdown",
   "id": "33c0089f-4750-4c6b-8e4c-bcd42fa2fb3a",
   "metadata": {},
   "source": [
    "# 6"
   ]
  },
  {
   "cell_type": "code",
   "execution_count": 7,
   "id": "f5466370-0269-4f37-8d4b-6dfd2ac08a8c",
   "metadata": {},
   "outputs": [
    {
     "name": "stdout",
     "output_type": "stream",
     "text": [
      "3 is divisible by 3\n",
      "6 is divisible by 3\n",
      "9 is divisible by 3\n",
      "12 is divisible by 3\n",
      "15 is divisible by 3\n",
      "18 is divisible by 3\n",
      "21 is divisible by 3\n",
      "24 is divisible by 3\n",
      "26 is not divisible by 3\n"
     ]
    }
   ],
   "source": [
    "l=[1,2,3,4,5,6,7,8,9,10,11,12,13,14,15,16,17,18,19,20,21,22,23,24,25,26]\n",
    "for i in l:\n",
    "    if i%3==0:\n",
    "        print(i,'is divisible by 3')\n",
    "else:\n",
    "    print(i,'is not divisible by 3')"
   ]
  },
  {
   "cell_type": "markdown",
   "id": "32998954-87d3-419a-afda-a2c7d30ff0e0",
   "metadata": {
    "tags": []
   },
   "source": [
    "# 7"
   ]
  },
  {
   "cell_type": "raw",
   "id": "d12a344e-06bc-4d63-a9b0-28024d20e726",
   "metadata": {},
   "source": [
    "We can mutate a particular data on a list but cannot mutate on a string"
   ]
  },
  {
   "cell_type": "code",
   "execution_count": 43,
   "id": "79e11c16-7c84-4666-8179-c9f90757ac0f",
   "metadata": {},
   "outputs": [
    {
     "data": {
      "text/plain": [
       "'r'"
      ]
     },
     "execution_count": 43,
     "metadata": {},
     "output_type": "execute_result"
    }
   ],
   "source": [
    "a='ruchi'\n",
    "a[0]"
   ]
  },
  {
   "cell_type": "code",
   "execution_count": 44,
   "id": "9fc6888c-f377-4cae-9c2e-2a47a5c79589",
   "metadata": {},
   "outputs": [
    {
     "ename": "NameError",
     "evalue": "name 'R' is not defined",
     "output_type": "error",
     "traceback": [
      "\u001b[0;31m---------------------------------------------------------------------------\u001b[0m",
      "\u001b[0;31mNameError\u001b[0m                                 Traceback (most recent call last)",
      "Cell \u001b[0;32mIn[44], line 1\u001b[0m\n\u001b[0;32m----> 1\u001b[0m a[\u001b[38;5;241m1\u001b[39m]\u001b[38;5;241m=\u001b[39m\u001b[43mR\u001b[49m\n",
      "\u001b[0;31mNameError\u001b[0m: name 'R' is not defined"
     ]
    }
   ],
   "source": [
    "a[1]=R"
   ]
  },
  {
   "cell_type": "code",
   "execution_count": 47,
   "id": "6b7c29e1-bb4b-4c5e-98ed-95803f9fb942",
   "metadata": {},
   "outputs": [
    {
     "data": {
      "text/plain": [
       "'ruchi'"
      ]
     },
     "execution_count": 47,
     "metadata": {},
     "output_type": "execute_result"
    }
   ],
   "source": [
    "b=[1,2.4,'ruchi',2+3j,'puja']\n",
    "b[2]"
   ]
  },
  {
   "cell_type": "code",
   "execution_count": null,
   "id": "9e794083-70aa-4edf-891a-c7ae9804f4b0",
   "metadata": {},
   "outputs": [],
   "source": [
    "b[2]='geet'"
   ]
  },
  {
   "cell_type": "code",
   "execution_count": null,
   "id": "35c9ce1b-0d4b-4ba7-bff3-3759db3646c9",
   "metadata": {},
   "outputs": [],
   "source": []
  },
  {
   "cell_type": "code",
   "execution_count": null,
   "id": "3ceea46f-6a4a-46e2-897a-f4d77be3932c",
   "metadata": {},
   "outputs": [],
   "source": []
  }
 ],
 "metadata": {
  "kernelspec": {
   "display_name": "Python 3 (ipykernel)",
   "language": "python",
   "name": "python3"
  },
  "language_info": {
   "codemirror_mode": {
    "name": "ipython",
    "version": 3
   },
   "file_extension": ".py",
   "mimetype": "text/x-python",
   "name": "python",
   "nbconvert_exporter": "python",
   "pygments_lexer": "ipython3",
   "version": "3.10.8"
  }
 },
 "nbformat": 4,
 "nbformat_minor": 5
}
